{
 "cells": [
  {
   "cell_type": "markdown",
   "metadata": {},
   "source": [
    "# Ceneo Analyzer"
   ]
  },
  {
   "cell_type": "markdown",
   "metadata": {},
   "source": [
    "## Biblioteki"
   ]
  },
  {
   "cell_type": "code",
   "execution_count": 298,
   "metadata": {},
   "outputs": [],
   "source": [
    "import os\n",
    "import pandas as pd\n",
    "import numpy as np\n",
    "import matplotlib.pyplot as plt"
   ]
  },
  {
   "cell_type": "markdown",
   "metadata": {},
   "source": [
    "## Lista kodów wszystkich produktów, o których zostały pobrane dane"
   ]
  },
  {
   "cell_type": "code",
   "execution_count": 299,
   "metadata": {},
   "outputs": [
    {
     "name": "stdout",
     "output_type": "stream",
     "text": [
      "102252763\n",
      "94103927\n",
      "test\n"
     ]
    }
   ],
   "source": [
    "print(*[fname.split('.')[0] for fname in os.listdir('opinions')], sep='\\n')"
   ]
  },
  {
   "cell_type": "markdown",
   "metadata": {},
   "source": [
    "## Kod produktu, dla którego ma zosstać wykonana analiza opinni"
   ]
  },
  {
   "cell_type": "code",
   "execution_count": 300,
   "metadata": {},
   "outputs": [],
   "source": [
    "product_id = input('Podaj kod prodktu w serwisie Ceneo.pl: ')\n",
    "#94103927"
   ]
  },
  {
   "cell_type": "markdown",
   "metadata": {},
   "source": [
    "## Wczytanie do obiektu pandas.DataFrame opinii o wskazanym produkcie"
   ]
  },
  {
   "cell_type": "code",
   "execution_count": 301,
   "metadata": {},
   "outputs": [],
   "source": [
    "opinions = pd.read_json(f\"opinions/{product_id}.json\")"
   ]
  },
  {
   "cell_type": "code",
   "execution_count": 302,
   "metadata": {},
   "outputs": [
    {
     "data": {
      "text/html": [
       "<div>\n",
       "<style scoped>\n",
       "    .dataframe tbody tr th:only-of-type {\n",
       "        vertical-align: middle;\n",
       "    }\n",
       "\n",
       "    .dataframe tbody tr th {\n",
       "        vertical-align: top;\n",
       "    }\n",
       "\n",
       "    .dataframe thead th {\n",
       "        text-align: right;\n",
       "    }\n",
       "</style>\n",
       "<table border=\"1\" class=\"dataframe\">\n",
       "  <thead>\n",
       "    <tr style=\"text-align: right;\">\n",
       "      <th></th>\n",
       "      <th>opinion_id</th>\n",
       "      <th>author</th>\n",
       "      <th>recommendation</th>\n",
       "      <th>rating</th>\n",
       "      <th>content</th>\n",
       "      <th>pros</th>\n",
       "      <th>cons</th>\n",
       "      <th>useful</th>\n",
       "      <th>useless</th>\n",
       "      <th>publish_date</th>\n",
       "      <th>purchase_date</th>\n",
       "    </tr>\n",
       "  </thead>\n",
       "  <tbody>\n",
       "    <tr>\n",
       "      <th>0</th>\n",
       "      <td>14882855</td>\n",
       "      <td>m...3</td>\n",
       "      <td>Polecam</td>\n",
       "      <td>5/5</td>\n",
       "      <td>Produkt odpowiada opisowi. Duża moc, bardzo pr...</td>\n",
       "      <td>[]</td>\n",
       "      <td>[]</td>\n",
       "      <td>0</td>\n",
       "      <td>0</td>\n",
       "      <td>2021-08-25 13:00:36</td>\n",
       "      <td>2021-08-20 15:50:05</td>\n",
       "    </tr>\n",
       "    <tr>\n",
       "      <th>1</th>\n",
       "      <td>17644198</td>\n",
       "      <td>t...v</td>\n",
       "      <td>Polecam</td>\n",
       "      <td>5/5</td>\n",
       "      <td>w pełni spełnia moje oczekiwania. Doskonały st...</td>\n",
       "      <td>[solidny]</td>\n",
       "      <td>[]</td>\n",
       "      <td>0</td>\n",
       "      <td>0</td>\n",
       "      <td>2023-06-24 11:40:45</td>\n",
       "      <td>2023-06-13 20:20:29</td>\n",
       "    </tr>\n",
       "    <tr>\n",
       "      <th>2</th>\n",
       "      <td>18297317</td>\n",
       "      <td>k...g</td>\n",
       "      <td>Polecam</td>\n",
       "      <td>5/5</td>\n",
       "      <td>Super!</td>\n",
       "      <td>[]</td>\n",
       "      <td>[]</td>\n",
       "      <td>0</td>\n",
       "      <td>0</td>\n",
       "      <td>2024-01-12 10:01:44</td>\n",
       "      <td>2024-01-01 22:12:28</td>\n",
       "    </tr>\n",
       "    <tr>\n",
       "      <th>3</th>\n",
       "      <td>17032079</td>\n",
       "      <td>Robert</td>\n",
       "      <td>Polecam</td>\n",
       "      <td>4/5</td>\n",
       "      <td>Uważam, że jakość wykonania jest na bardzo dob...</td>\n",
       "      <td>[]</td>\n",
       "      <td>[]</td>\n",
       "      <td>0</td>\n",
       "      <td>0</td>\n",
       "      <td>2023-01-18 14:16:37</td>\n",
       "      <td>2023-01-15 21:00:55</td>\n",
       "    </tr>\n",
       "    <tr>\n",
       "      <th>4</th>\n",
       "      <td>16845664</td>\n",
       "      <td>m...7</td>\n",
       "      <td>Polecam</td>\n",
       "      <td>5/5</td>\n",
       "      <td>Produkt zgodny z opisem i estetycznie wykonany...</td>\n",
       "      <td>[]</td>\n",
       "      <td>[]</td>\n",
       "      <td>0</td>\n",
       "      <td>0</td>\n",
       "      <td>2022-12-07 18:48:09</td>\n",
       "      <td>2022-12-03 11:04:50</td>\n",
       "    </tr>\n",
       "    <tr>\n",
       "      <th>...</th>\n",
       "      <td>...</td>\n",
       "      <td>...</td>\n",
       "      <td>...</td>\n",
       "      <td>...</td>\n",
       "      <td>...</td>\n",
       "      <td>...</td>\n",
       "      <td>...</td>\n",
       "      <td>...</td>\n",
       "      <td>...</td>\n",
       "      <td>...</td>\n",
       "      <td>...</td>\n",
       "    </tr>\n",
       "    <tr>\n",
       "      <th>182</th>\n",
       "      <td>13948675</td>\n",
       "      <td>z...5</td>\n",
       "      <td>Polecam</td>\n",
       "      <td>5/5</td>\n",
       "      <td>Ok</td>\n",
       "      <td>[]</td>\n",
       "      <td>[]</td>\n",
       "      <td>0</td>\n",
       "      <td>0</td>\n",
       "      <td>2021-02-12 20:35:33</td>\n",
       "      <td>2021-02-02 20:22:27</td>\n",
       "    </tr>\n",
       "    <tr>\n",
       "      <th>183</th>\n",
       "      <td>17953583</td>\n",
       "      <td>l...9</td>\n",
       "      <td>Nie polecam</td>\n",
       "      <td>0,5/5</td>\n",
       "      <td>Dobre urządzenie jako blender ,trochę ciężki a...</td>\n",
       "      <td>[solidny]</td>\n",
       "      <td>[]</td>\n",
       "      <td>0</td>\n",
       "      <td>0</td>\n",
       "      <td>2023-09-29 16:58:11</td>\n",
       "      <td>2023-09-19 08:22:30</td>\n",
       "    </tr>\n",
       "    <tr>\n",
       "      <th>184</th>\n",
       "      <td>17867933</td>\n",
       "      <td>j...k</td>\n",
       "      <td>Nie polecam</td>\n",
       "      <td>0,5/5</td>\n",
       "      <td>Nie załącza się do zgłoszenia reklamacji\\nWygl...</td>\n",
       "      <td>[]</td>\n",
       "      <td>[]</td>\n",
       "      <td>0</td>\n",
       "      <td>0</td>\n",
       "      <td>2023-09-04 16:17:18</td>\n",
       "      <td>2023-08-28 22:01:25</td>\n",
       "    </tr>\n",
       "    <tr>\n",
       "      <th>185</th>\n",
       "      <td>17718528</td>\n",
       "      <td>m...2</td>\n",
       "      <td>Nie polecam</td>\n",
       "      <td>0,5/5</td>\n",
       "      <td>był uszkodzony</td>\n",
       "      <td>[]</td>\n",
       "      <td>[]</td>\n",
       "      <td>0</td>\n",
       "      <td>0</td>\n",
       "      <td>2023-07-18 21:13:37</td>\n",
       "      <td>2023-06-29 15:07:16</td>\n",
       "    </tr>\n",
       "    <tr>\n",
       "      <th>186</th>\n",
       "      <td>17663872</td>\n",
       "      <td>m...2</td>\n",
       "      <td>Nie polecam</td>\n",
       "      <td>2,5/5</td>\n",
       "      <td>nie wiem</td>\n",
       "      <td>[]</td>\n",
       "      <td>[]</td>\n",
       "      <td>0</td>\n",
       "      <td>0</td>\n",
       "      <td>2023-06-30 11:33:00</td>\n",
       "      <td>2023-06-27 01:07:03</td>\n",
       "    </tr>\n",
       "  </tbody>\n",
       "</table>\n",
       "<p>187 rows × 11 columns</p>\n",
       "</div>"
      ],
      "text/plain": [
       "     opinion_id  author recommendation rating  \\\n",
       "0      14882855   m...3        Polecam    5/5   \n",
       "1      17644198   t...v        Polecam    5/5   \n",
       "2      18297317   k...g        Polecam    5/5   \n",
       "3      17032079  Robert        Polecam    4/5   \n",
       "4      16845664   m...7        Polecam    5/5   \n",
       "..          ...     ...            ...    ...   \n",
       "182    13948675   z...5        Polecam    5/5   \n",
       "183    17953583   l...9    Nie polecam  0,5/5   \n",
       "184    17867933   j...k    Nie polecam  0,5/5   \n",
       "185    17718528   m...2    Nie polecam  0,5/5   \n",
       "186    17663872   m...2    Nie polecam  2,5/5   \n",
       "\n",
       "                                               content       pros cons  \\\n",
       "0    Produkt odpowiada opisowi. Duża moc, bardzo pr...         []   []   \n",
       "1    w pełni spełnia moje oczekiwania. Doskonały st...  [solidny]   []   \n",
       "2                                               Super!         []   []   \n",
       "3    Uważam, że jakość wykonania jest na bardzo dob...         []   []   \n",
       "4    Produkt zgodny z opisem i estetycznie wykonany...         []   []   \n",
       "..                                                 ...        ...  ...   \n",
       "182                                                 Ok         []   []   \n",
       "183  Dobre urządzenie jako blender ,trochę ciężki a...  [solidny]   []   \n",
       "184  Nie załącza się do zgłoszenia reklamacji\\nWygl...         []   []   \n",
       "185                                     był uszkodzony         []   []   \n",
       "186                                           nie wiem         []   []   \n",
       "\n",
       "     useful  useless         publish_date        purchase_date  \n",
       "0         0        0  2021-08-25 13:00:36  2021-08-20 15:50:05  \n",
       "1         0        0  2023-06-24 11:40:45  2023-06-13 20:20:29  \n",
       "2         0        0  2024-01-12 10:01:44  2024-01-01 22:12:28  \n",
       "3         0        0  2023-01-18 14:16:37  2023-01-15 21:00:55  \n",
       "4         0        0  2022-12-07 18:48:09  2022-12-03 11:04:50  \n",
       "..      ...      ...                  ...                  ...  \n",
       "182       0        0  2021-02-12 20:35:33  2021-02-02 20:22:27  \n",
       "183       0        0  2023-09-29 16:58:11  2023-09-19 08:22:30  \n",
       "184       0        0  2023-09-04 16:17:18  2023-08-28 22:01:25  \n",
       "185       0        0  2023-07-18 21:13:37  2023-06-29 15:07:16  \n",
       "186       0        0  2023-06-30 11:33:00  2023-06-27 01:07:03  \n",
       "\n",
       "[187 rows x 11 columns]"
      ]
     },
     "execution_count": 302,
     "metadata": {},
     "output_type": "execute_result"
    }
   ],
   "source": [
    "opinions"
   ]
  },
  {
   "cell_type": "markdown",
   "metadata": {},
   "source": [
    "## Przekształcanie danych"
   ]
  },
  {
   "cell_type": "code",
   "execution_count": 303,
   "metadata": {},
   "outputs": [],
   "source": [
    "opinions.rating = opinions.rating.apply(lambda rate: rate.split('/')[0].replace(',', '.')).astype(float)"
   ]
  },
  {
   "cell_type": "markdown",
   "metadata": {},
   "source": [
    "## Podastwowe statystyki"
   ]
  },
  {
   "cell_type": "code",
   "execution_count": 304,
   "metadata": {},
   "outputs": [],
   "source": [
    "opinions_count = len(opinions)\n",
    "pros_count = opinions.pros.astype(bool).sum()\n",
    "cons_count = opinions.cons.astype(bool).sum()\n",
    "avg_rating = opinions.rating.mean()\n",
    "# print(avg_rating)"
   ]
  },
  {
   "cell_type": "markdown",
   "metadata": {},
   "source": [
    "## Histogram częstości poszczególnych ocen w opiniach o produkcie"
   ]
  },
  {
   "cell_type": "code",
   "execution_count": 305,
   "metadata": {},
   "outputs": [
    {
     "data": {
      "text/plain": [
       "[Text(0, 0, ''),\n",
       " Text(0, 0, '3'),\n",
       " Text(0, 0, ''),\n",
       " Text(0, 0, ''),\n",
       " Text(0, 0, ''),\n",
       " Text(0, 0, '1'),\n",
       " Text(0, 0, ''),\n",
       " Text(0, 0, '2'),\n",
       " Text(0, 0, '13'),\n",
       " Text(0, 0, '19'),\n",
       " Text(0, 0, '149')]"
      ]
     },
     "execution_count": 305,
     "metadata": {},
     "output_type": "execute_result"
    },
    {
     "data": {
      "image/png": "[encoded data removed]",
      "text/plain": [
       "<Figure size 640x480 with 1 Axes>"
      ]
     },
     "metadata": {},
     "output_type": "display_data"
    }
   ],
   "source": [
    "rating_distribution = opinions.rating.value_counts().reindex(np.arange(0,5.2,0.5), fill_value = 0)\n",
    "# print(rating_distribution)\n",
    "fig, ax = plt.subplots()\n",
    "rating_distribution.plot.bar()\n",
    "plt.xticks(rotation = 0)\n",
    "plt.xlabel('Liczba gwiazdek')\n",
    "plt.ylabel('Liczba opinii')\n",
    "plt.title('Histogram częstości ocen w opiniach')\n",
    "ax.bar_label(ax.containers[0], label_type='edge', fmt=lambda x: int(x) if x > 0 else '')"
   ]
  },
  {
   "cell_type": "markdown",
   "metadata": {},
   "source": [
    "## Udział poszczególnych rekomendacji w opiniach"
   ]
  },
  {
   "cell_type": "code",
   "execution_count": 306,
   "metadata": {},
   "outputs": [
    {
     "data": {
      "text/plain": [
       "Text(0.5, 1.0, 'Udział rekomendacji w opiniach')"
      ]
     },
     "execution_count": 306,
     "metadata": {},
     "output_type": "execute_result"
    },
    {
     "data": {
      "image/png": "[encoded data removed]",
      "text/plain": [
       "<Figure size 640x480 with 1 Axes>"
      ]
     },
     "metadata": {},
     "output_type": "display_data"
    }
   ],
   "source": [
    "recommendation_distribution = opinions.recommendation.value_counts(dropna=False).reindex(['Polecam', 'Nie polecam', None])\n",
    "recommendation_distribution.plot.pie(\n",
    "    label = '',\n",
    "    colors = ['seagreen', 'palevioletred', 'thistle'],\n",
    "    labels = ['Polecam', 'Nie polecam', 'Nie mam zdania']\n",
    ")\n",
    "plt.title('Udział rekomendacji w opiniach')"
   ]
  }
 ],
 "metadata": {
  "kernelspec": {
   "display_name": ".venv",
   "language": "python",
   "name": "python3"
  },
  "language_info": {
   "codemirror_mode": {
    "name": "ipython",
    "version": 3
   },
   "file_extension": ".py",
   "mimetype": "text/x-python",
   "name": "python",
   "nbconvert_exporter": "python",
   "pygments_lexer": "ipython3",
   "version": "3.11.4"
  }
 },
 "nbformat": 4,
 "nbformat_minor": 2
}
