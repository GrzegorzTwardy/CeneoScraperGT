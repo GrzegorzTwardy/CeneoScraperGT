{
 "cells": [
  {
   "attachments": {},
   "cell_type": "markdown",
   "metadata": {},
   "source": [
    "# Ceneo Scraper"
   ]
  },
  {
   "attachments": {},
   "cell_type": "markdown",
   "metadata": {},
   "source": [
    "## Biblioteki"
   ]
  },
  {
   "cell_type": "code",
   "execution_count": 36,
   "metadata": {},
   "outputs": [],
   "source": [
    "import os\n",
    "import json\n",
    "import requests\n",
    "from bs4 import BeautifulSoup"
   ]
  },
  {
   "attachments": {},
   "cell_type": "markdown",
   "metadata": {},
   "source": [
    "## Struktura opinni w serwisie Ceneo.pl\n",
    "\n",
    "|Składowa|Selektor|Zmienna|\n",
    "|--------|--------|-------|\n",
    "|id_opinii|[\"data-entry-id\"]|opinion_id|\n",
    "|autor|span.user-post__author-name|author|\n",
    "|rekomendacja|span.user-post__author-recomendation > em|recommendation|\n",
    "|gwiazdki|span.user-post__score-count|rating|\n",
    "|treść|div.user-post__text|content|\n",
    "|lista zalet|div.review-feature__title--positives ~ div.review-feature__item|pros|\n",
    "|lista wad|div.review-feature__title--negatives ~ div.review-feature__item|cons|\n",
    "|dla ilu przydatna|button.vote-yes > span|useful|\n",
    "|dla ilu nieprzydatna|button.vote-no > span|useless|\n",
    "|data wystawienia|span.user-post__published > time:nth-child(1)[\"datetime\"]|publish_date|\n",
    "|data zakupu|span.user-post__published > time:nth-child(2)[\"datetime\"]|purchase_date|\n"
   ]
  },
  {
   "attachments": {},
   "cell_type": "markdown",
   "metadata": {},
   "source": [
    "## Wysłanie do serwera żądania dostępu do zasobu"
   ]
  },
  {
   "cell_type": "code",
   "execution_count": 37,
   "metadata": {},
   "outputs": [],
   "source": [
    "product_id = '94103927'\n",
    "url = f'https://www.ceneo.pl/{product_id}#tab=reviews'"
   ]
  },
  {
   "cell_type": "code",
   "execution_count": 38,
   "metadata": {},
   "outputs": [
    {
     "name": "stdout",
     "output_type": "stream",
     "text": [
      "https://www.ceneo.pl/94103927/opinie-2\n",
      "https://www.ceneo.pl/94103927/opinie-3\n",
      "https://www.ceneo.pl/94103927/opinie-4\n",
      "38\n"
     ]
    }
   ],
   "source": [
    "all_opinions = []\n",
    "while url:\n",
    "    response = requests.get(url)\n",
    "    page_dom = BeautifulSoup(response.text, \"html.parser\")\n",
    "    opinions = page_dom.select('div.js_product-review')    \n",
    "    for opinion in opinions:\n",
    "        try:\n",
    "            single_opinion = {\n",
    "                'opinion_id':opinion['data-entry-id'],\n",
    "                'author':opinion.select_one('span.user-post__author-name').text.strip(),\n",
    "                'recommendation':opinion.select_one('span.user-post__author-recomendation > em').text.strip(),\n",
    "                'rating':opinion.select_one('span.user-post__score-count').text.strip(),\n",
    "                'content':opinion.select_one('div.user-post__text').text.strip(),\n",
    "                'pros':[x.text.strip() for x in opinion.select('div.review-feature__title--positives ~ div.review-feature__item')],\n",
    "                'cons':[x.text.strip() for x in opinion.select('div.review-feature__title--negatives ~ div.review-feature__item')],\n",
    "                'useful':opinion.select_one('button.vote-yes > span').text.strip(),\n",
    "                'useless':opinion.select_one('button.vote-no > span').text.strip(),\n",
    "                'publish_date':opinion.select_one('span.user-post__published > time:nth-child(1)').get('datetime').strip(),\n",
    "                'purchase_date':opinion.select_one('span.user-post__published > time:nth-child(2)').get('datetime').strip()\n",
    "            }\n",
    "            all_opinions.append(single_opinion)\n",
    "        except (TypeError, AttributeError):\n",
    "            pass\n",
    "    \n",
    "    try:\n",
    "        url = 'https://www.ceneo.pl' + page_dom.select_one('a.pagination__next').get('href').strip()\n",
    "        print(url)\n",
    "    except AttributeError:\n",
    "        url = None"
   ]
  },
  {
   "cell_type": "code",
   "execution_count": 39,
   "metadata": {},
   "outputs": [],
   "source": [
    "if not os.path.exists('opinions'):\n",
    "    os.mkdir('opinions')\n",
    "\n",
    "with open(f'opinions/{product_id}.json', 'w', encoding='utf=8') as jf: #json file\n",
    "    json.dump(all_opinions, jf, indent=4, ensure_ascii=False)"
   ]
  }
 ],
 "metadata": {
  "kernelspec": {
   "display_name": ".venv",
   "language": "python",
   "name": "python3"
  },
  "language_info": {
   "codemirror_mode": {
    "name": "ipython",
    "version": 3
   },
   "file_extension": ".py",
   "mimetype": "text/x-python",
   "name": "python",
   "nbconvert_exporter": "python",
   "pygments_lexer": "ipython3",
   "version": "3.11.4"
  },
  "orig_nbformat": 4
 },
 "nbformat": 4,
 "nbformat_minor": 2
}
