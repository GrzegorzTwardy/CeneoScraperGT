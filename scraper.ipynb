{
 "cells": [
  {
   "attachments": {},
   "cell_type": "markdown",
   "metadata": {},
   "source": [
    "# Ceneo Scraper"
   ]
  },
  {
   "attachments": {},
   "cell_type": "markdown",
   "metadata": {},
   "source": [
    "## Biblioteki"
   ]
  },
  {
   "cell_type": "code",
   "execution_count": 99,
   "metadata": {},
   "outputs": [],
   "source": [
    "import requests\n",
    "from bs4 import BeautifulSoup"
   ]
  },
  {
   "attachments": {},
   "cell_type": "markdown",
   "metadata": {},
   "source": [
    "## Wysłanie do serwera żądania dostępu do zasobu"
   ]
  },
  {
   "cell_type": "code",
   "execution_count": 100,
   "metadata": {},
   "outputs": [],
   "source": [
    "product_id = '94103927'\n",
    "url = f'https://www.ceneo.pl/{product_id}#tab=reviews'\n",
    "response = requests.get(url)"
   ]
  },
  {
   "cell_type": "code",
   "execution_count": 101,
   "metadata": {},
   "outputs": [],
   "source": [
    "page_dom = BeautifulSoup(response.text, \"html.parser\")\n",
    "# opinions = page_dom.select_one('div.js_product-reviews')\n",
    "\n",
    "# # opinion = page_dom.select_one('div.js_product-reviews')\n",
    "# opinion = page_dom.select_one('div.js_product-reviews')\n",
    "\n",
    "opinions = page_dom.select('div.user-post')\n",
    "opinion = opinions.pop()\n",
    "# opinion = page_dom.select('div.user-post:nth-of-type(4)')[0]\n",
    "# opinion = opinions[3]\n"
   ]
  },
  {
   "attachments": {},
   "cell_type": "markdown",
   "metadata": {},
   "source": [
    "## Ekstracja składowych pojedynczej opinii\n",
    "\n",
    "|Składowa|Selektor|Zmienna|\n",
    "|--------|--------|-------|\n",
    "|id_opinii|[\"data-entry-id\"]|opinion_id|\n",
    "|autor|span.user-post__author-name|author|\n",
    "|rekomendacja|span.user-post__author-recomendation > em|recommendation|\n",
    "|gwiazdki|span.user-post__score-count|rating|\n",
    "|treść|div.user-post__text|content|\n",
    "|lista zalet|div.review-feature__title--positives ~ div.review-feature__item|pros|\n",
    "|lista wad|div.review-feature__title--negatives ~ div.review-feature__item|cons|\n",
    "|dla ilu przydatna|button.vote-yes > span|useful|\n",
    "|dla ilu nieprzydatna|button.vote-no > span|useless|\n",
    "|data wystawienia|span.user-post__published > time:nth-child(1)[\"datetime\"]|publish_date|\n",
    "|data zakupu|span.user-post__published > time:nth-child(2)[\"datetime\"]|purchase_date|\n"
   ]
  },
  {
   "cell_type": "code",
   "execution_count": 102,
   "metadata": {},
   "outputs": [
    {
     "name": "stdout",
     "output_type": "stream",
     "text": [
      "13699872\n",
      "\n",
      "s...1\n",
      "Polecam\n",
      "5/5\n",
      "Polecam. Mam taki w pracy, pracuje kucharzem. \n",
      "[]\n",
      "[]\n",
      "0\n",
      "0\n",
      "2021-01-02 19:11:20\n",
      "2020-12-02 18:02:26\n"
     ]
    }
   ],
   "source": [
    "opinion_id = opinion.get('data-entry-id')\n",
    "author = opinion.select_one('span.user-post__author-name').string\n",
    "recommendation = opinion.select_one('span.user-post__author-recomendation > em').string\n",
    "rating = opinion.select_one('span.user-post__score-count').string\n",
    "content = opinion.select_one('div.user-post__text').string\n",
    "pros = []\n",
    "cons = []\n",
    "\n",
    "if opinion.select_one('div.review-feature__title--positives ~ div.review-feature__item'):\n",
    "    pros = [x.string for x in opinion.select('div.review-feature__title--positives ~ div.review-feature__item')]\n",
    "if opinion.select_one('div.review-feature__title--negatives ~ div.review-feature__item'):\n",
    "    cons = [x.string for x in opinion.select('div.review-feature__title--negatives ~ div.review-feature__item')]\n",
    "\n",
    "useful = opinion.select_one('button.vote-yes > span').string\n",
    "useless = opinion.select_one('button.vote-no > span').string\n",
    "publish_date = opinion.select_one('span.user-post__published > time:nth-child(1)').get('datetime')\n",
    "purchase_date = opinion.select_one('span.user-post__published > time:nth-child(2)').get('datetime')\n",
    "\n",
    "print(opinion_id)\n",
    "print(author)\n",
    "print(recommendation)\n",
    "print(rating)\n",
    "print(content)\n",
    "print(pros)\n",
    "print(cons)\n",
    "print(useful)\n",
    "print(useless)\n",
    "print(publish_date)\n",
    "print(purchase_date)"
   ]
  }
 ],
 "metadata": {
  "kernelspec": {
   "display_name": ".venv",
   "language": "python",
   "name": "python3"
  },
  "language_info": {
   "codemirror_mode": {
    "name": "ipython",
    "version": 3
   },
   "file_extension": ".py",
   "mimetype": "text/x-python",
   "name": "python",
   "nbconvert_exporter": "python",
   "pygments_lexer": "ipython3",
   "version": "3.9.12"
  },
  "orig_nbformat": 4
 },
 "nbformat": 4,
 "nbformat_minor": 2
}
